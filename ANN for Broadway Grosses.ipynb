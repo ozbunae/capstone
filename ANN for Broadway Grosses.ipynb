{
 "cells": [
  {
   "cell_type": "markdown",
   "metadata": {},
   "source": [
    "# Project Overview"
   ]
  },
  {
   "cell_type": "markdown",
   "metadata": {},
   "source": [
    "## Artificial Neural Networks\n"
   ]
  },
  {
   "cell_type": "markdown",
   "metadata": {},
   "source": [
    "How they work:\n",
    "Artificial Neural Network(ANN) uses the processing of the brain as a basis to develop algorithms that can be used to model complex patterns and prediction problems.\n",
    "\n",
    "In our brain, there are billions of cells called neurons, which processes information in the form of electric signals. External information is received by the dendrites of the neuron, processed in the neuron cell body, converted to an output and passed through the Axon to the next neuron. The next neuron can choose to either accept it or reject it depending on the strength of the signal.[1]\n",
    "\n",
    "I am going to attempt to classifying if a show will close or not using this type of network."
   ]
  },
  {
   "cell_type": "markdown",
   "metadata": {},
   "source": [
    "![ann](img/photo_1.png)"
   ]
  },
  {
   "cell_type": "markdown",
   "metadata": {},
   "source": [
    "# Imports"
   ]
  },
  {
   "cell_type": "code",
   "execution_count": 32,
   "metadata": {
    "ExecuteTime": {
     "end_time": "2021-04-11T19:26:50.287476Z",
     "start_time": "2021-04-11T19:26:50.281390Z"
    }
   },
   "outputs": [],
   "source": [
    "import pandas as pd\n",
    "import numpy as np\n",
    "import matplotlib.pyplot as plt\n",
    "import seaborn as sns\n",
    "sns.set(font_scale=1)\n",
    "\n",
    "from sklearn.metrics import confusion_matrix\n",
    "from sklearn.metrics import plot_confusion_matrix\n",
    "from sklearn.metrics import classification_report\n",
    "\n",
    "import tensorflow as tf\n",
    "from tensorflow import keras\n",
    "from tensorflow.keras import layers\n",
    "from tensorflow.keras import Sequential\n",
    "from tensorflow.keras.layers import Dense, Conv2D, MaxPooling2D, Dropout, Flatten"
   ]
  },
  {
   "cell_type": "markdown",
   "metadata": {},
   "source": [
    "# The Data"
   ]
  },
  {
   "cell_type": "markdown",
   "metadata": {},
   "source": [
    "The same data and techinques for manipulating it into a usable data frame are used below as in the Baseline Modeling Notebook."
   ]
  },
  {
   "cell_type": "code",
   "execution_count": 33,
   "metadata": {
    "ExecuteTime": {
     "end_time": "2021-04-11T19:26:51.605705Z",
     "start_time": "2021-04-11T19:26:50.291568Z"
    }
   },
   "outputs": [],
   "source": [
    "df = pd.read_excel('Broadway_Grosses.xlsx')"
   ]
  },
  {
   "cell_type": "code",
   "execution_count": 34,
   "metadata": {
    "ExecuteTime": {
     "end_time": "2021-04-11T19:26:51.616830Z",
     "start_time": "2021-04-11T19:26:51.608611Z"
    }
   },
   "outputs": [],
   "source": [
    "df['show'] = df['show'].str.capitalize()"
   ]
  },
  {
   "cell_type": "code",
   "execution_count": 35,
   "metadata": {
    "ExecuteTime": {
     "end_time": "2021-04-11T19:26:51.633242Z",
     "start_time": "2021-04-11T19:26:51.623219Z"
    }
   },
   "outputs": [],
   "source": [
    "df = df[~df.type.str.contains(\"Special\")]"
   ]
  },
  {
   "cell_type": "code",
   "execution_count": 36,
   "metadata": {
    "ExecuteTime": {
     "end_time": "2021-04-11T19:26:51.646351Z",
     "start_time": "2021-04-11T19:26:51.636455Z"
    }
   },
   "outputs": [],
   "source": [
    "df = df.set_index('date')"
   ]
  },
  {
   "cell_type": "code",
   "execution_count": 37,
   "metadata": {
    "ExecuteTime": {
     "end_time": "2021-04-11T19:26:51.676249Z",
     "start_time": "2021-04-11T19:26:51.648593Z"
    }
   },
   "outputs": [
    {
     "data": {
      "text/html": [
       "<div>\n",
       "<style scoped>\n",
       "    .dataframe tbody tr th:only-of-type {\n",
       "        vertical-align: middle;\n",
       "    }\n",
       "\n",
       "    .dataframe tbody tr th {\n",
       "        vertical-align: top;\n",
       "    }\n",
       "\n",
       "    .dataframe thead th {\n",
       "        text-align: right;\n",
       "    }\n",
       "</style>\n",
       "<table border=\"1\" class=\"dataframe\">\n",
       "  <thead>\n",
       "    <tr style=\"text-align: right;\">\n",
       "      <th></th>\n",
       "      <th>show</th>\n",
       "      <th>type</th>\n",
       "      <th>theatre</th>\n",
       "      <th>previews</th>\n",
       "      <th>performances</th>\n",
       "      <th>grosses</th>\n",
       "      <th>prev_week_gross</th>\n",
       "      <th>GG%GP</th>\n",
       "      <th>attend</th>\n",
       "      <th>prev_week_attend</th>\n",
       "      <th>%cap</th>\n",
       "      <th>close_month</th>\n",
       "      <th>genre</th>\n",
       "      <th>tony_noms</th>\n",
       "      <th>tony_awards</th>\n",
       "    </tr>\n",
       "    <tr>\n",
       "      <th>date</th>\n",
       "      <th></th>\n",
       "      <th></th>\n",
       "      <th></th>\n",
       "      <th></th>\n",
       "      <th></th>\n",
       "      <th></th>\n",
       "      <th></th>\n",
       "      <th></th>\n",
       "      <th></th>\n",
       "      <th></th>\n",
       "      <th></th>\n",
       "      <th></th>\n",
       "      <th></th>\n",
       "      <th></th>\n",
       "      <th></th>\n",
       "    </tr>\n",
       "  </thead>\n",
       "  <tbody>\n",
       "    <tr>\n",
       "      <th>2017-05-21</th>\n",
       "      <td>NaN</td>\n",
       "      <td>Play</td>\n",
       "      <td>Hudson</td>\n",
       "      <td>4</td>\n",
       "      <td>0</td>\n",
       "      <td>212626</td>\n",
       "      <td>$</td>\n",
       "      <td>0.48</td>\n",
       "      <td>3378</td>\n",
       "      <td>NaN</td>\n",
       "      <td>0.87</td>\n",
       "      <td>0</td>\n",
       "      <td>Mystery</td>\n",
       "      <td>1</td>\n",
       "      <td>0</td>\n",
       "    </tr>\n",
       "    <tr>\n",
       "      <th>2017-05-28</th>\n",
       "      <td>NaN</td>\n",
       "      <td>Play</td>\n",
       "      <td>Hudson</td>\n",
       "      <td>7</td>\n",
       "      <td>0</td>\n",
       "      <td>298438</td>\n",
       "      <td>212626</td>\n",
       "      <td>0.45</td>\n",
       "      <td>5079</td>\n",
       "      <td>3378.0</td>\n",
       "      <td>0.75</td>\n",
       "      <td>0</td>\n",
       "      <td>Mystery</td>\n",
       "      <td>1</td>\n",
       "      <td>0</td>\n",
       "    </tr>\n",
       "    <tr>\n",
       "      <th>2017-06-04</th>\n",
       "      <td>NaN</td>\n",
       "      <td>Play</td>\n",
       "      <td>Hudson</td>\n",
       "      <td>8</td>\n",
       "      <td>0</td>\n",
       "      <td>282053</td>\n",
       "      <td>298438</td>\n",
       "      <td>0.36</td>\n",
       "      <td>5230</td>\n",
       "      <td>5079.0</td>\n",
       "      <td>0.67</td>\n",
       "      <td>0</td>\n",
       "      <td>Mystery</td>\n",
       "      <td>1</td>\n",
       "      <td>0</td>\n",
       "    </tr>\n",
       "    <tr>\n",
       "      <th>2017-06-11</th>\n",
       "      <td>NaN</td>\n",
       "      <td>Play</td>\n",
       "      <td>Hudson</td>\n",
       "      <td>8</td>\n",
       "      <td>0</td>\n",
       "      <td>288446</td>\n",
       "      <td>282053</td>\n",
       "      <td>0.37</td>\n",
       "      <td>5554</td>\n",
       "      <td>5230.0</td>\n",
       "      <td>0.72</td>\n",
       "      <td>0</td>\n",
       "      <td>Mystery</td>\n",
       "      <td>1</td>\n",
       "      <td>0</td>\n",
       "    </tr>\n",
       "    <tr>\n",
       "      <th>2017-06-18</th>\n",
       "      <td>NaN</td>\n",
       "      <td>Play</td>\n",
       "      <td>Hudson</td>\n",
       "      <td>8</td>\n",
       "      <td>0</td>\n",
       "      <td>301461</td>\n",
       "      <td>288446</td>\n",
       "      <td>0.39</td>\n",
       "      <td>6018</td>\n",
       "      <td>5554.0</td>\n",
       "      <td>0.78</td>\n",
       "      <td>0</td>\n",
       "      <td>Mystery</td>\n",
       "      <td>1</td>\n",
       "      <td>0</td>\n",
       "    </tr>\n",
       "  </tbody>\n",
       "</table>\n",
       "</div>"
      ],
      "text/plain": [
       "           show  type theatre  previews  performances  grosses  \\\n",
       "date                                                             \n",
       "2017-05-21  NaN  Play  Hudson         4             0   212626   \n",
       "2017-05-28  NaN  Play  Hudson         7             0   298438   \n",
       "2017-06-04  NaN  Play  Hudson         8             0   282053   \n",
       "2017-06-11  NaN  Play  Hudson         8             0   288446   \n",
       "2017-06-18  NaN  Play  Hudson         8             0   301461   \n",
       "\n",
       "           prev_week_gross  GG%GP  attend  prev_week_attend  %cap  \\\n",
       "date                                                                \n",
       "2017-05-21               $   0.48    3378               NaN  0.87   \n",
       "2017-05-28          212626   0.45    5079            3378.0  0.75   \n",
       "2017-06-04          298438   0.36    5230            5079.0  0.67   \n",
       "2017-06-11          282053   0.37    5554            5230.0  0.72   \n",
       "2017-06-18          288446   0.39    6018            5554.0  0.78   \n",
       "\n",
       "            close_month    genre  tony_noms  tony_awards  \n",
       "date                                                      \n",
       "2017-05-21            0  Mystery          1            0  \n",
       "2017-05-28            0  Mystery          1            0  \n",
       "2017-06-04            0  Mystery          1            0  \n",
       "2017-06-11            0  Mystery          1            0  \n",
       "2017-06-18            0  Mystery          1            0  "
      ]
     },
     "execution_count": 37,
     "metadata": {},
     "output_type": "execute_result"
    }
   ],
   "source": [
    "df.head()"
   ]
  },
  {
   "cell_type": "code",
   "execution_count": 38,
   "metadata": {
    "ExecuteTime": {
     "end_time": "2021-04-11T19:26:51.691117Z",
     "start_time": "2021-04-11T19:26:51.679981Z"
    }
   },
   "outputs": [],
   "source": [
    "df = df.dropna()"
   ]
  },
  {
   "cell_type": "code",
   "execution_count": 39,
   "metadata": {
    "ExecuteTime": {
     "end_time": "2021-04-11T19:26:51.706342Z",
     "start_time": "2021-04-11T19:26:51.696261Z"
    }
   },
   "outputs": [
    {
     "data": {
      "text/plain": [
       "show                0\n",
       "type                0\n",
       "theatre             0\n",
       "previews            0\n",
       "performances        0\n",
       "grosses             0\n",
       "prev_week_gross     0\n",
       "GG%GP               0\n",
       "attend              0\n",
       "prev_week_attend    0\n",
       "%cap                0\n",
       "close_month         0\n",
       "genre               0\n",
       "tony_noms           0\n",
       "tony_awards         0\n",
       "dtype: int64"
      ]
     },
     "execution_count": 39,
     "metadata": {},
     "output_type": "execute_result"
    }
   ],
   "source": [
    "df.isnull().sum()"
   ]
  },
  {
   "cell_type": "code",
   "execution_count": 40,
   "metadata": {
    "ExecuteTime": {
     "end_time": "2021-04-11T19:26:51.715704Z",
     "start_time": "2021-04-11T19:26:51.710236Z"
    }
   },
   "outputs": [
    {
     "data": {
      "text/plain": [
       "(7840, 15)"
      ]
     },
     "execution_count": 40,
     "metadata": {},
     "output_type": "execute_result"
    }
   ],
   "source": [
    "df.shape"
   ]
  },
  {
   "cell_type": "code",
   "execution_count": 41,
   "metadata": {
    "ExecuteTime": {
     "end_time": "2021-04-11T19:26:51.767741Z",
     "start_time": "2021-04-11T19:26:51.718234Z"
    }
   },
   "outputs": [
    {
     "data": {
      "text/html": [
       "<div>\n",
       "<style scoped>\n",
       "    .dataframe tbody tr th:only-of-type {\n",
       "        vertical-align: middle;\n",
       "    }\n",
       "\n",
       "    .dataframe tbody tr th {\n",
       "        vertical-align: top;\n",
       "    }\n",
       "\n",
       "    .dataframe thead th {\n",
       "        text-align: right;\n",
       "    }\n",
       "</style>\n",
       "<table border=\"1\" class=\"dataframe\">\n",
       "  <thead>\n",
       "    <tr style=\"text-align: right;\">\n",
       "      <th></th>\n",
       "      <th>previews</th>\n",
       "      <th>performances</th>\n",
       "      <th>grosses</th>\n",
       "      <th>GG%GP</th>\n",
       "      <th>attend</th>\n",
       "      <th>prev_week_attend</th>\n",
       "      <th>%cap</th>\n",
       "      <th>close_month</th>\n",
       "      <th>tony_noms</th>\n",
       "      <th>tony_awards</th>\n",
       "    </tr>\n",
       "  </thead>\n",
       "  <tbody>\n",
       "    <tr>\n",
       "      <th>count</th>\n",
       "      <td>7840.000000</td>\n",
       "      <td>7840.000000</td>\n",
       "      <td>7.840000e+03</td>\n",
       "      <td>7840.000000</td>\n",
       "      <td>7840.000000</td>\n",
       "      <td>7840.000000</td>\n",
       "      <td>7840.000000</td>\n",
       "      <td>7840.000000</td>\n",
       "      <td>7840.000000</td>\n",
       "      <td>7840.000000</td>\n",
       "    </tr>\n",
       "    <tr>\n",
       "      <th>mean</th>\n",
       "      <td>0.501148</td>\n",
       "      <td>7.437117</td>\n",
       "      <td>9.773324e+05</td>\n",
       "      <td>0.737249</td>\n",
       "      <td>8541.012883</td>\n",
       "      <td>8469.217219</td>\n",
       "      <td>0.871644</td>\n",
       "      <td>0.131250</td>\n",
       "      <td>6.778061</td>\n",
       "      <td>2.799362</td>\n",
       "    </tr>\n",
       "    <tr>\n",
       "      <th>std</th>\n",
       "      <td>1.834107</td>\n",
       "      <td>1.950236</td>\n",
       "      <td>5.822765e+05</td>\n",
       "      <td>0.246903</td>\n",
       "      <td>2805.710607</td>\n",
       "      <td>2877.978093</td>\n",
       "      <td>0.134217</td>\n",
       "      <td>0.337695</td>\n",
       "      <td>4.808434</td>\n",
       "      <td>3.330795</td>\n",
       "    </tr>\n",
       "    <tr>\n",
       "      <th>min</th>\n",
       "      <td>0.000000</td>\n",
       "      <td>0.000000</td>\n",
       "      <td>9.050300e+04</td>\n",
       "      <td>0.140000</td>\n",
       "      <td>1742.000000</td>\n",
       "      <td>500.000000</td>\n",
       "      <td>0.340000</td>\n",
       "      <td>0.000000</td>\n",
       "      <td>0.000000</td>\n",
       "      <td>0.000000</td>\n",
       "    </tr>\n",
       "    <tr>\n",
       "      <th>25%</th>\n",
       "      <td>0.000000</td>\n",
       "      <td>8.000000</td>\n",
       "      <td>5.833712e+05</td>\n",
       "      <td>0.550000</td>\n",
       "      <td>6515.750000</td>\n",
       "      <td>6449.500000</td>\n",
       "      <td>0.780000</td>\n",
       "      <td>0.000000</td>\n",
       "      <td>2.000000</td>\n",
       "      <td>0.000000</td>\n",
       "    </tr>\n",
       "    <tr>\n",
       "      <th>50%</th>\n",
       "      <td>0.000000</td>\n",
       "      <td>8.000000</td>\n",
       "      <td>8.396750e+05</td>\n",
       "      <td>0.710000</td>\n",
       "      <td>8130.000000</td>\n",
       "      <td>8099.000000</td>\n",
       "      <td>0.910000</td>\n",
       "      <td>0.000000</td>\n",
       "      <td>7.000000</td>\n",
       "      <td>1.000000</td>\n",
       "    </tr>\n",
       "    <tr>\n",
       "      <th>75%</th>\n",
       "      <td>0.000000</td>\n",
       "      <td>8.000000</td>\n",
       "      <td>1.210884e+06</td>\n",
       "      <td>0.930000</td>\n",
       "      <td>10497.250000</td>\n",
       "      <td>10482.250000</td>\n",
       "      <td>0.990000</td>\n",
       "      <td>0.000000</td>\n",
       "      <td>10.000000</td>\n",
       "      <td>6.000000</td>\n",
       "    </tr>\n",
       "    <tr>\n",
       "      <th>max</th>\n",
       "      <td>8.000000</td>\n",
       "      <td>9.000000</td>\n",
       "      <td>4.041493e+06</td>\n",
       "      <td>1.700000</td>\n",
       "      <td>17334.000000</td>\n",
       "      <td>17334.000000</td>\n",
       "      <td>1.040000</td>\n",
       "      <td>1.000000</td>\n",
       "      <td>16.000000</td>\n",
       "      <td>11.000000</td>\n",
       "    </tr>\n",
       "  </tbody>\n",
       "</table>\n",
       "</div>"
      ],
      "text/plain": [
       "          previews  performances       grosses        GG%GP        attend  \\\n",
       "count  7840.000000   7840.000000  7.840000e+03  7840.000000   7840.000000   \n",
       "mean      0.501148      7.437117  9.773324e+05     0.737249   8541.012883   \n",
       "std       1.834107      1.950236  5.822765e+05     0.246903   2805.710607   \n",
       "min       0.000000      0.000000  9.050300e+04     0.140000   1742.000000   \n",
       "25%       0.000000      8.000000  5.833712e+05     0.550000   6515.750000   \n",
       "50%       0.000000      8.000000  8.396750e+05     0.710000   8130.000000   \n",
       "75%       0.000000      8.000000  1.210884e+06     0.930000  10497.250000   \n",
       "max       8.000000      9.000000  4.041493e+06     1.700000  17334.000000   \n",
       "\n",
       "       prev_week_attend         %cap  close_month    tony_noms  tony_awards  \n",
       "count       7840.000000  7840.000000  7840.000000  7840.000000  7840.000000  \n",
       "mean        8469.217219     0.871644     0.131250     6.778061     2.799362  \n",
       "std         2877.978093     0.134217     0.337695     4.808434     3.330795  \n",
       "min          500.000000     0.340000     0.000000     0.000000     0.000000  \n",
       "25%         6449.500000     0.780000     0.000000     2.000000     0.000000  \n",
       "50%         8099.000000     0.910000     0.000000     7.000000     1.000000  \n",
       "75%        10482.250000     0.990000     0.000000    10.000000     6.000000  \n",
       "max        17334.000000     1.040000     1.000000    16.000000    11.000000  "
      ]
     },
     "execution_count": 41,
     "metadata": {},
     "output_type": "execute_result"
    }
   ],
   "source": [
    "df.describe()"
   ]
  },
  {
   "cell_type": "code",
   "execution_count": 42,
   "metadata": {
    "ExecuteTime": {
     "end_time": "2021-04-11T19:26:51.804084Z",
     "start_time": "2021-04-11T19:26:51.773039Z"
    }
   },
   "outputs": [
    {
     "data": {
      "text/html": [
       "<div>\n",
       "<style scoped>\n",
       "    .dataframe tbody tr th:only-of-type {\n",
       "        vertical-align: middle;\n",
       "    }\n",
       "\n",
       "    .dataframe tbody tr th {\n",
       "        vertical-align: top;\n",
       "    }\n",
       "\n",
       "    .dataframe thead th {\n",
       "        text-align: right;\n",
       "    }\n",
       "</style>\n",
       "<table border=\"1\" class=\"dataframe\">\n",
       "  <thead>\n",
       "    <tr style=\"text-align: right;\">\n",
       "      <th></th>\n",
       "      <th></th>\n",
       "      <th>show</th>\n",
       "      <th>type</th>\n",
       "      <th>theatre</th>\n",
       "      <th>previews</th>\n",
       "      <th>performances</th>\n",
       "      <th>prev_week_gross</th>\n",
       "      <th>GG%GP</th>\n",
       "      <th>attend</th>\n",
       "      <th>prev_week_attend</th>\n",
       "      <th>%cap</th>\n",
       "      <th>close_month</th>\n",
       "      <th>genre</th>\n",
       "      <th>tony_awards</th>\n",
       "    </tr>\n",
       "    <tr>\n",
       "      <th>tony_noms</th>\n",
       "      <th>grosses</th>\n",
       "      <th></th>\n",
       "      <th></th>\n",
       "      <th></th>\n",
       "      <th></th>\n",
       "      <th></th>\n",
       "      <th></th>\n",
       "      <th></th>\n",
       "      <th></th>\n",
       "      <th></th>\n",
       "      <th></th>\n",
       "      <th></th>\n",
       "      <th></th>\n",
       "      <th></th>\n",
       "    </tr>\n",
       "  </thead>\n",
       "  <tbody>\n",
       "    <tr>\n",
       "      <th rowspan=\"5\" valign=\"top\">0</th>\n",
       "      <th>109716</th>\n",
       "      <td>1</td>\n",
       "      <td>1</td>\n",
       "      <td>1</td>\n",
       "      <td>1</td>\n",
       "      <td>1</td>\n",
       "      <td>1</td>\n",
       "      <td>1</td>\n",
       "      <td>1</td>\n",
       "      <td>1</td>\n",
       "      <td>1</td>\n",
       "      <td>1</td>\n",
       "      <td>1</td>\n",
       "      <td>1</td>\n",
       "    </tr>\n",
       "    <tr>\n",
       "      <th>126468</th>\n",
       "      <td>1</td>\n",
       "      <td>1</td>\n",
       "      <td>1</td>\n",
       "      <td>1</td>\n",
       "      <td>1</td>\n",
       "      <td>1</td>\n",
       "      <td>1</td>\n",
       "      <td>1</td>\n",
       "      <td>1</td>\n",
       "      <td>1</td>\n",
       "      <td>1</td>\n",
       "      <td>1</td>\n",
       "      <td>1</td>\n",
       "    </tr>\n",
       "    <tr>\n",
       "      <th>129388</th>\n",
       "      <td>1</td>\n",
       "      <td>1</td>\n",
       "      <td>1</td>\n",
       "      <td>1</td>\n",
       "      <td>1</td>\n",
       "      <td>1</td>\n",
       "      <td>1</td>\n",
       "      <td>1</td>\n",
       "      <td>1</td>\n",
       "      <td>1</td>\n",
       "      <td>1</td>\n",
       "      <td>1</td>\n",
       "      <td>1</td>\n",
       "    </tr>\n",
       "    <tr>\n",
       "      <th>138549</th>\n",
       "      <td>1</td>\n",
       "      <td>1</td>\n",
       "      <td>1</td>\n",
       "      <td>1</td>\n",
       "      <td>1</td>\n",
       "      <td>1</td>\n",
       "      <td>1</td>\n",
       "      <td>1</td>\n",
       "      <td>1</td>\n",
       "      <td>1</td>\n",
       "      <td>1</td>\n",
       "      <td>1</td>\n",
       "      <td>1</td>\n",
       "    </tr>\n",
       "    <tr>\n",
       "      <th>141742</th>\n",
       "      <td>1</td>\n",
       "      <td>1</td>\n",
       "      <td>1</td>\n",
       "      <td>1</td>\n",
       "      <td>1</td>\n",
       "      <td>1</td>\n",
       "      <td>1</td>\n",
       "      <td>1</td>\n",
       "      <td>1</td>\n",
       "      <td>1</td>\n",
       "      <td>1</td>\n",
       "      <td>1</td>\n",
       "      <td>1</td>\n",
       "    </tr>\n",
       "    <tr>\n",
       "      <th>...</th>\n",
       "      <th>...</th>\n",
       "      <td>...</td>\n",
       "      <td>...</td>\n",
       "      <td>...</td>\n",
       "      <td>...</td>\n",
       "      <td>...</td>\n",
       "      <td>...</td>\n",
       "      <td>...</td>\n",
       "      <td>...</td>\n",
       "      <td>...</td>\n",
       "      <td>...</td>\n",
       "      <td>...</td>\n",
       "      <td>...</td>\n",
       "      <td>...</td>\n",
       "    </tr>\n",
       "    <tr>\n",
       "      <th rowspan=\"5\" valign=\"top\">16</th>\n",
       "      <th>3646320</th>\n",
       "      <td>1</td>\n",
       "      <td>1</td>\n",
       "      <td>1</td>\n",
       "      <td>1</td>\n",
       "      <td>1</td>\n",
       "      <td>1</td>\n",
       "      <td>1</td>\n",
       "      <td>1</td>\n",
       "      <td>1</td>\n",
       "      <td>1</td>\n",
       "      <td>1</td>\n",
       "      <td>1</td>\n",
       "      <td>1</td>\n",
       "    </tr>\n",
       "    <tr>\n",
       "      <th>3797844</th>\n",
       "      <td>1</td>\n",
       "      <td>1</td>\n",
       "      <td>1</td>\n",
       "      <td>1</td>\n",
       "      <td>1</td>\n",
       "      <td>1</td>\n",
       "      <td>1</td>\n",
       "      <td>1</td>\n",
       "      <td>1</td>\n",
       "      <td>1</td>\n",
       "      <td>1</td>\n",
       "      <td>1</td>\n",
       "      <td>1</td>\n",
       "    </tr>\n",
       "    <tr>\n",
       "      <th>3808299</th>\n",
       "      <td>1</td>\n",
       "      <td>1</td>\n",
       "      <td>1</td>\n",
       "      <td>1</td>\n",
       "      <td>1</td>\n",
       "      <td>1</td>\n",
       "      <td>1</td>\n",
       "      <td>1</td>\n",
       "      <td>1</td>\n",
       "      <td>1</td>\n",
       "      <td>1</td>\n",
       "      <td>1</td>\n",
       "      <td>1</td>\n",
       "    </tr>\n",
       "    <tr>\n",
       "      <th>3854874</th>\n",
       "      <td>1</td>\n",
       "      <td>1</td>\n",
       "      <td>1</td>\n",
       "      <td>1</td>\n",
       "      <td>1</td>\n",
       "      <td>1</td>\n",
       "      <td>1</td>\n",
       "      <td>1</td>\n",
       "      <td>1</td>\n",
       "      <td>1</td>\n",
       "      <td>1</td>\n",
       "      <td>1</td>\n",
       "      <td>1</td>\n",
       "    </tr>\n",
       "    <tr>\n",
       "      <th>4041493</th>\n",
       "      <td>1</td>\n",
       "      <td>1</td>\n",
       "      <td>1</td>\n",
       "      <td>1</td>\n",
       "      <td>1</td>\n",
       "      <td>1</td>\n",
       "      <td>1</td>\n",
       "      <td>1</td>\n",
       "      <td>1</td>\n",
       "      <td>1</td>\n",
       "      <td>1</td>\n",
       "      <td>1</td>\n",
       "      <td>1</td>\n",
       "    </tr>\n",
       "  </tbody>\n",
       "</table>\n",
       "<p>7839 rows × 13 columns</p>\n",
       "</div>"
      ],
      "text/plain": [
       "                   show  type  theatre  previews  performances  \\\n",
       "tony_noms grosses                                                \n",
       "0         109716      1     1        1         1             1   \n",
       "          126468      1     1        1         1             1   \n",
       "          129388      1     1        1         1             1   \n",
       "          138549      1     1        1         1             1   \n",
       "          141742      1     1        1         1             1   \n",
       "...                 ...   ...      ...       ...           ...   \n",
       "16        3646320     1     1        1         1             1   \n",
       "          3797844     1     1        1         1             1   \n",
       "          3808299     1     1        1         1             1   \n",
       "          3854874     1     1        1         1             1   \n",
       "          4041493     1     1        1         1             1   \n",
       "\n",
       "                   prev_week_gross  GG%GP  attend  prev_week_attend  %cap  \\\n",
       "tony_noms grosses                                                           \n",
       "0         109716                 1      1       1                 1     1   \n",
       "          126468                 1      1       1                 1     1   \n",
       "          129388                 1      1       1                 1     1   \n",
       "          138549                 1      1       1                 1     1   \n",
       "          141742                 1      1       1                 1     1   \n",
       "...                            ...    ...     ...               ...   ...   \n",
       "16        3646320                1      1       1                 1     1   \n",
       "          3797844                1      1       1                 1     1   \n",
       "          3808299                1      1       1                 1     1   \n",
       "          3854874                1      1       1                 1     1   \n",
       "          4041493                1      1       1                 1     1   \n",
       "\n",
       "                   close_month  genre  tony_awards  \n",
       "tony_noms grosses                                   \n",
       "0         109716             1      1            1  \n",
       "          126468             1      1            1  \n",
       "          129388             1      1            1  \n",
       "          138549             1      1            1  \n",
       "          141742             1      1            1  \n",
       "...                        ...    ...          ...  \n",
       "16        3646320            1      1            1  \n",
       "          3797844            1      1            1  \n",
       "          3808299            1      1            1  \n",
       "          3854874            1      1            1  \n",
       "          4041493            1      1            1  \n",
       "\n",
       "[7839 rows x 13 columns]"
      ]
     },
     "execution_count": 42,
     "metadata": {},
     "output_type": "execute_result"
    }
   ],
   "source": [
    "df.groupby(['tony_noms', 'grosses']).count()"
   ]
  },
  {
   "cell_type": "code",
   "execution_count": 43,
   "metadata": {
    "ExecuteTime": {
     "end_time": "2021-04-11T19:26:51.828639Z",
     "start_time": "2021-04-11T19:26:51.808981Z"
    }
   },
   "outputs": [
    {
     "name": "stdout",
     "output_type": "stream",
     "text": [
      "<class 'pandas.core.frame.DataFrame'>\n",
      "DatetimeIndex: 7840 entries, 2019-11-17 to 2015-02-22\n",
      "Data columns (total 15 columns):\n",
      " #   Column            Non-Null Count  Dtype  \n",
      "---  ------            --------------  -----  \n",
      " 0   show              7840 non-null   object \n",
      " 1   type              7840 non-null   object \n",
      " 2   theatre           7840 non-null   object \n",
      " 3   previews          7840 non-null   int64  \n",
      " 4   performances      7840 non-null   int64  \n",
      " 5   grosses           7840 non-null   int64  \n",
      " 6   prev_week_gross   7840 non-null   object \n",
      " 7   GG%GP             7840 non-null   float64\n",
      " 8   attend            7840 non-null   int64  \n",
      " 9   prev_week_attend  7840 non-null   float64\n",
      " 10  %cap              7840 non-null   float64\n",
      " 11  close_month       7840 non-null   int64  \n",
      " 12  genre             7840 non-null   object \n",
      " 13  tony_noms         7840 non-null   int64  \n",
      " 14  tony_awards       7840 non-null   int64  \n",
      "dtypes: float64(3), int64(7), object(5)\n",
      "memory usage: 980.0+ KB\n"
     ]
    }
   ],
   "source": [
    "df.info()"
   ]
  },
  {
   "cell_type": "markdown",
   "metadata": {},
   "source": [
    "# Modeling"
   ]
  },
  {
   "cell_type": "code",
   "execution_count": null,
   "metadata": {},
   "outputs": [],
   "source": []
  },
  {
   "cell_type": "code",
   "execution_count": null,
   "metadata": {},
   "outputs": [],
   "source": []
  },
  {
   "cell_type": "markdown",
   "metadata": {},
   "source": [
    "## Labels and Features"
   ]
  },
  {
   "cell_type": "code",
   "execution_count": 44,
   "metadata": {
    "ExecuteTime": {
     "end_time": "2021-04-11T19:26:51.861010Z",
     "start_time": "2021-04-11T19:26:51.832079Z"
    }
   },
   "outputs": [],
   "source": [
    "features = df.drop('close_month', axis = 1)\n",
    "labels = df['close_month']"
   ]
  },
  {
   "cell_type": "code",
   "execution_count": 45,
   "metadata": {
    "ExecuteTime": {
     "end_time": "2021-04-11T19:26:51.894907Z",
     "start_time": "2021-04-11T19:26:51.869630Z"
    }
   },
   "outputs": [
    {
     "data": {
      "text/html": [
       "<div>\n",
       "<style scoped>\n",
       "    .dataframe tbody tr th:only-of-type {\n",
       "        vertical-align: middle;\n",
       "    }\n",
       "\n",
       "    .dataframe tbody tr th {\n",
       "        vertical-align: top;\n",
       "    }\n",
       "\n",
       "    .dataframe thead th {\n",
       "        text-align: right;\n",
       "    }\n",
       "</style>\n",
       "<table border=\"1\" class=\"dataframe\">\n",
       "  <thead>\n",
       "    <tr style=\"text-align: right;\">\n",
       "      <th></th>\n",
       "      <th>show</th>\n",
       "      <th>type</th>\n",
       "      <th>theatre</th>\n",
       "      <th>previews</th>\n",
       "      <th>performances</th>\n",
       "      <th>grosses</th>\n",
       "      <th>prev_week_gross</th>\n",
       "      <th>GG%GP</th>\n",
       "      <th>attend</th>\n",
       "      <th>prev_week_attend</th>\n",
       "      <th>%cap</th>\n",
       "      <th>genre</th>\n",
       "      <th>tony_noms</th>\n",
       "      <th>tony_awards</th>\n",
       "    </tr>\n",
       "    <tr>\n",
       "      <th>date</th>\n",
       "      <th></th>\n",
       "      <th></th>\n",
       "      <th></th>\n",
       "      <th></th>\n",
       "      <th></th>\n",
       "      <th></th>\n",
       "      <th></th>\n",
       "      <th></th>\n",
       "      <th></th>\n",
       "      <th></th>\n",
       "      <th></th>\n",
       "      <th></th>\n",
       "      <th></th>\n",
       "      <th></th>\n",
       "    </tr>\n",
       "  </thead>\n",
       "  <tbody>\n",
       "    <tr>\n",
       "      <th>2019-11-17</th>\n",
       "      <td>A christmas carol 2019</td>\n",
       "      <td>Play</td>\n",
       "      <td>Lyceum</td>\n",
       "      <td>8</td>\n",
       "      <td>0</td>\n",
       "      <td>257525</td>\n",
       "      <td>106450</td>\n",
       "      <td>0.30</td>\n",
       "      <td>4194</td>\n",
       "      <td>1651.0</td>\n",
       "      <td>0.62</td>\n",
       "      <td>Seasonal</td>\n",
       "      <td>5</td>\n",
       "      <td>3</td>\n",
       "    </tr>\n",
       "    <tr>\n",
       "      <th>2019-11-24</th>\n",
       "      <td>A christmas carol 2019</td>\n",
       "      <td>Play</td>\n",
       "      <td>Lyceum</td>\n",
       "      <td>1</td>\n",
       "      <td>7</td>\n",
       "      <td>384493</td>\n",
       "      <td>257525</td>\n",
       "      <td>0.45</td>\n",
       "      <td>5590</td>\n",
       "      <td>4194.0</td>\n",
       "      <td>0.82</td>\n",
       "      <td>Seasonal</td>\n",
       "      <td>5</td>\n",
       "      <td>3</td>\n",
       "    </tr>\n",
       "    <tr>\n",
       "      <th>2019-12-01</th>\n",
       "      <td>A christmas carol 2019</td>\n",
       "      <td>Play</td>\n",
       "      <td>Lyceum</td>\n",
       "      <td>0</td>\n",
       "      <td>9</td>\n",
       "      <td>734745</td>\n",
       "      <td>384493</td>\n",
       "      <td>0.77</td>\n",
       "      <td>5988</td>\n",
       "      <td>5590.0</td>\n",
       "      <td>0.78</td>\n",
       "      <td>Seasonal</td>\n",
       "      <td>5</td>\n",
       "      <td>3</td>\n",
       "    </tr>\n",
       "    <tr>\n",
       "      <th>2019-12-08</th>\n",
       "      <td>A christmas carol 2019</td>\n",
       "      <td>Play</td>\n",
       "      <td>Lyceum</td>\n",
       "      <td>0</td>\n",
       "      <td>8</td>\n",
       "      <td>757702</td>\n",
       "      <td>734745</td>\n",
       "      <td>0.90</td>\n",
       "      <td>6164</td>\n",
       "      <td>5988.0</td>\n",
       "      <td>0.91</td>\n",
       "      <td>Seasonal</td>\n",
       "      <td>5</td>\n",
       "      <td>3</td>\n",
       "    </tr>\n",
       "    <tr>\n",
       "      <th>2019-12-15</th>\n",
       "      <td>A christmas carol 2019</td>\n",
       "      <td>Play</td>\n",
       "      <td>Lyceum</td>\n",
       "      <td>0</td>\n",
       "      <td>8</td>\n",
       "      <td>822983</td>\n",
       "      <td>757702</td>\n",
       "      <td>0.97</td>\n",
       "      <td>6619</td>\n",
       "      <td>6164.0</td>\n",
       "      <td>0.98</td>\n",
       "      <td>Seasonal</td>\n",
       "      <td>5</td>\n",
       "      <td>3</td>\n",
       "    </tr>\n",
       "  </tbody>\n",
       "</table>\n",
       "</div>"
      ],
      "text/plain": [
       "                              show  type theatre  previews  performances  \\\n",
       "date                                                                       \n",
       "2019-11-17  A christmas carol 2019  Play  Lyceum         8             0   \n",
       "2019-11-24  A christmas carol 2019  Play  Lyceum         1             7   \n",
       "2019-12-01  A christmas carol 2019  Play  Lyceum         0             9   \n",
       "2019-12-08  A christmas carol 2019  Play  Lyceum         0             8   \n",
       "2019-12-15  A christmas carol 2019  Play  Lyceum         0             8   \n",
       "\n",
       "            grosses prev_week_gross  GG%GP  attend  prev_week_attend  %cap  \\\n",
       "date                                                                         \n",
       "2019-11-17   257525          106450   0.30    4194            1651.0  0.62   \n",
       "2019-11-24   384493          257525   0.45    5590            4194.0  0.82   \n",
       "2019-12-01   734745          384493   0.77    5988            5590.0  0.78   \n",
       "2019-12-08   757702          734745   0.90    6164            5988.0  0.91   \n",
       "2019-12-15   822983          757702   0.97    6619            6164.0  0.98   \n",
       "\n",
       "               genre  tony_noms  tony_awards  \n",
       "date                                          \n",
       "2019-11-17  Seasonal          5            3  \n",
       "2019-11-24  Seasonal          5            3  \n",
       "2019-12-01  Seasonal          5            3  \n",
       "2019-12-08  Seasonal          5            3  \n",
       "2019-12-15  Seasonal          5            3  "
      ]
     },
     "execution_count": 45,
     "metadata": {},
     "output_type": "execute_result"
    }
   ],
   "source": [
    "features[0:5]"
   ]
  },
  {
   "cell_type": "code",
   "execution_count": 46,
   "metadata": {
    "ExecuteTime": {
     "end_time": "2021-04-11T19:26:51.903518Z",
     "start_time": "2021-04-11T19:26:51.897886Z"
    }
   },
   "outputs": [
    {
     "data": {
      "text/plain": [
       "date\n",
       "2019-11-17    0\n",
       "2019-11-24    0\n",
       "2019-12-01    0\n",
       "2019-12-08    0\n",
       "2019-12-15    0\n",
       "Name: close_month, dtype: int64"
      ]
     },
     "execution_count": 46,
     "metadata": {},
     "output_type": "execute_result"
    }
   ],
   "source": [
    "labels[0:5]"
   ]
  },
  {
   "cell_type": "code",
   "execution_count": null,
   "metadata": {},
   "outputs": [],
   "source": []
  },
  {
   "cell_type": "markdown",
   "metadata": {},
   "source": [
    "## One Hot Encoding"
   ]
  },
  {
   "cell_type": "code",
   "execution_count": 47,
   "metadata": {
    "ExecuteTime": {
     "end_time": "2021-04-11T19:26:52.519305Z",
     "start_time": "2021-04-11T19:26:51.906199Z"
    }
   },
   "outputs": [
    {
     "data": {
      "text/html": [
       "<div>\n",
       "<style scoped>\n",
       "    .dataframe tbody tr th:only-of-type {\n",
       "        vertical-align: middle;\n",
       "    }\n",
       "\n",
       "    .dataframe tbody tr th {\n",
       "        vertical-align: top;\n",
       "    }\n",
       "\n",
       "    .dataframe thead th {\n",
       "        text-align: right;\n",
       "    }\n",
       "</style>\n",
       "<table border=\"1\" class=\"dataframe\">\n",
       "  <thead>\n",
       "    <tr style=\"text-align: right;\">\n",
       "      <th></th>\n",
       "      <th>previews</th>\n",
       "      <th>performances</th>\n",
       "      <th>grosses</th>\n",
       "      <th>GG%GP</th>\n",
       "      <th>attend</th>\n",
       "      <th>prev_week_attend</th>\n",
       "      <th>%cap</th>\n",
       "      <th>tony_noms</th>\n",
       "      <th>tony_awards</th>\n",
       "      <th>show_A bronx tale the musical</th>\n",
       "      <th>...</th>\n",
       "      <th>genre_ Jukebox</th>\n",
       "      <th>genre_Alternative</th>\n",
       "      <th>genre_Classic</th>\n",
       "      <th>genre_Comedy</th>\n",
       "      <th>genre_Drama</th>\n",
       "      <th>genre_Jukebox</th>\n",
       "      <th>genre_Mystery</th>\n",
       "      <th>genre_Seasonal</th>\n",
       "      <th>genre_Special</th>\n",
       "      <th>genre_Tragedy</th>\n",
       "    </tr>\n",
       "    <tr>\n",
       "      <th>date</th>\n",
       "      <th></th>\n",
       "      <th></th>\n",
       "      <th></th>\n",
       "      <th></th>\n",
       "      <th></th>\n",
       "      <th></th>\n",
       "      <th></th>\n",
       "      <th></th>\n",
       "      <th></th>\n",
       "      <th></th>\n",
       "      <th></th>\n",
       "      <th></th>\n",
       "      <th></th>\n",
       "      <th></th>\n",
       "      <th></th>\n",
       "      <th></th>\n",
       "      <th></th>\n",
       "      <th></th>\n",
       "      <th></th>\n",
       "      <th></th>\n",
       "      <th></th>\n",
       "    </tr>\n",
       "  </thead>\n",
       "  <tbody>\n",
       "    <tr>\n",
       "      <th>2019-11-17</th>\n",
       "      <td>8</td>\n",
       "      <td>0</td>\n",
       "      <td>257525</td>\n",
       "      <td>0.30</td>\n",
       "      <td>4194</td>\n",
       "      <td>1651.0</td>\n",
       "      <td>0.62</td>\n",
       "      <td>5</td>\n",
       "      <td>3</td>\n",
       "      <td>0</td>\n",
       "      <td>...</td>\n",
       "      <td>0</td>\n",
       "      <td>0</td>\n",
       "      <td>0</td>\n",
       "      <td>0</td>\n",
       "      <td>0</td>\n",
       "      <td>0</td>\n",
       "      <td>0</td>\n",
       "      <td>1</td>\n",
       "      <td>0</td>\n",
       "      <td>0</td>\n",
       "    </tr>\n",
       "    <tr>\n",
       "      <th>2019-11-24</th>\n",
       "      <td>1</td>\n",
       "      <td>7</td>\n",
       "      <td>384493</td>\n",
       "      <td>0.45</td>\n",
       "      <td>5590</td>\n",
       "      <td>4194.0</td>\n",
       "      <td>0.82</td>\n",
       "      <td>5</td>\n",
       "      <td>3</td>\n",
       "      <td>0</td>\n",
       "      <td>...</td>\n",
       "      <td>0</td>\n",
       "      <td>0</td>\n",
       "      <td>0</td>\n",
       "      <td>0</td>\n",
       "      <td>0</td>\n",
       "      <td>0</td>\n",
       "      <td>0</td>\n",
       "      <td>1</td>\n",
       "      <td>0</td>\n",
       "      <td>0</td>\n",
       "    </tr>\n",
       "    <tr>\n",
       "      <th>2019-12-01</th>\n",
       "      <td>0</td>\n",
       "      <td>9</td>\n",
       "      <td>734745</td>\n",
       "      <td>0.77</td>\n",
       "      <td>5988</td>\n",
       "      <td>5590.0</td>\n",
       "      <td>0.78</td>\n",
       "      <td>5</td>\n",
       "      <td>3</td>\n",
       "      <td>0</td>\n",
       "      <td>...</td>\n",
       "      <td>0</td>\n",
       "      <td>0</td>\n",
       "      <td>0</td>\n",
       "      <td>0</td>\n",
       "      <td>0</td>\n",
       "      <td>0</td>\n",
       "      <td>0</td>\n",
       "      <td>1</td>\n",
       "      <td>0</td>\n",
       "      <td>0</td>\n",
       "    </tr>\n",
       "    <tr>\n",
       "      <th>2019-12-08</th>\n",
       "      <td>0</td>\n",
       "      <td>8</td>\n",
       "      <td>757702</td>\n",
       "      <td>0.90</td>\n",
       "      <td>6164</td>\n",
       "      <td>5988.0</td>\n",
       "      <td>0.91</td>\n",
       "      <td>5</td>\n",
       "      <td>3</td>\n",
       "      <td>0</td>\n",
       "      <td>...</td>\n",
       "      <td>0</td>\n",
       "      <td>0</td>\n",
       "      <td>0</td>\n",
       "      <td>0</td>\n",
       "      <td>0</td>\n",
       "      <td>0</td>\n",
       "      <td>0</td>\n",
       "      <td>1</td>\n",
       "      <td>0</td>\n",
       "      <td>0</td>\n",
       "    </tr>\n",
       "    <tr>\n",
       "      <th>2019-12-15</th>\n",
       "      <td>0</td>\n",
       "      <td>8</td>\n",
       "      <td>822983</td>\n",
       "      <td>0.97</td>\n",
       "      <td>6619</td>\n",
       "      <td>6164.0</td>\n",
       "      <td>0.98</td>\n",
       "      <td>5</td>\n",
       "      <td>3</td>\n",
       "      <td>0</td>\n",
       "      <td>...</td>\n",
       "      <td>0</td>\n",
       "      <td>0</td>\n",
       "      <td>0</td>\n",
       "      <td>0</td>\n",
       "      <td>0</td>\n",
       "      <td>0</td>\n",
       "      <td>0</td>\n",
       "      <td>1</td>\n",
       "      <td>0</td>\n",
       "      <td>0</td>\n",
       "    </tr>\n",
       "  </tbody>\n",
       "</table>\n",
       "<p>5 rows × 8090 columns</p>\n",
       "</div>"
      ],
      "text/plain": [
       "            previews  performances  grosses  GG%GP  attend  prev_week_attend  \\\n",
       "date                                                                           \n",
       "2019-11-17         8             0   257525   0.30    4194            1651.0   \n",
       "2019-11-24         1             7   384493   0.45    5590            4194.0   \n",
       "2019-12-01         0             9   734745   0.77    5988            5590.0   \n",
       "2019-12-08         0             8   757702   0.90    6164            5988.0   \n",
       "2019-12-15         0             8   822983   0.97    6619            6164.0   \n",
       "\n",
       "            %cap  tony_noms  tony_awards  show_A bronx tale the musical  ...  \\\n",
       "date                                                                     ...   \n",
       "2019-11-17  0.62          5            3                              0  ...   \n",
       "2019-11-24  0.82          5            3                              0  ...   \n",
       "2019-12-01  0.78          5            3                              0  ...   \n",
       "2019-12-08  0.91          5            3                              0  ...   \n",
       "2019-12-15  0.98          5            3                              0  ...   \n",
       "\n",
       "            genre_ Jukebox  genre_Alternative  genre_Classic  genre_Comedy  \\\n",
       "date                                                                         \n",
       "2019-11-17               0                  0              0             0   \n",
       "2019-11-24               0                  0              0             0   \n",
       "2019-12-01               0                  0              0             0   \n",
       "2019-12-08               0                  0              0             0   \n",
       "2019-12-15               0                  0              0             0   \n",
       "\n",
       "            genre_Drama  genre_Jukebox  genre_Mystery  genre_Seasonal  \\\n",
       "date                                                                    \n",
       "2019-11-17            0              0              0               1   \n",
       "2019-11-24            0              0              0               1   \n",
       "2019-12-01            0              0              0               1   \n",
       "2019-12-08            0              0              0               1   \n",
       "2019-12-15            0              0              0               1   \n",
       "\n",
       "            genre_Special  genre_Tragedy  \n",
       "date                                      \n",
       "2019-11-17              0              0  \n",
       "2019-11-24              0              0  \n",
       "2019-12-01              0              0  \n",
       "2019-12-08              0              0  \n",
       "2019-12-15              0              0  \n",
       "\n",
       "[5 rows x 8090 columns]"
      ]
     },
     "execution_count": 47,
     "metadata": {},
     "output_type": "execute_result"
    }
   ],
   "source": [
    "features = pd.get_dummies(features)\n",
    "features[0:5]"
   ]
  },
  {
   "cell_type": "code",
   "execution_count": 48,
   "metadata": {
    "ExecuteTime": {
     "end_time": "2021-04-11T19:26:52.530221Z",
     "start_time": "2021-04-11T19:26:52.525720Z"
    }
   },
   "outputs": [
    {
     "data": {
      "text/plain": [
       "(7840, 8090)"
      ]
     },
     "execution_count": 48,
     "metadata": {},
     "output_type": "execute_result"
    }
   ],
   "source": [
    "features.shape"
   ]
  },
  {
   "cell_type": "code",
   "execution_count": 49,
   "metadata": {
    "ExecuteTime": {
     "end_time": "2021-04-11T19:26:53.414909Z",
     "start_time": "2021-04-11T19:26:52.532570Z"
    }
   },
   "outputs": [],
   "source": [
    "#got an error message when running model, soulution was setting all values to float32.\n",
    "features = features.values.astype('float32')\n",
    "labels = labels.values.astype('float32')"
   ]
  },
  {
   "cell_type": "markdown",
   "metadata": {},
   "source": [
    "## Test, Train, Validation"
   ]
  },
  {
   "cell_type": "code",
   "execution_count": 50,
   "metadata": {
    "ExecuteTime": {
     "end_time": "2021-04-11T19:26:54.484144Z",
     "start_time": "2021-04-11T19:26:53.416532Z"
    }
   },
   "outputs": [],
   "source": [
    "from sklearn.model_selection import train_test_split\n",
    "#creating training and testing\n",
    "features_train, features_test, labels_train, labels_test = train_test_split(features, labels, test_size = 0.2, random_state=0)\n",
    "#creating validation labels\n",
    "features_train, features_validation, labels_train, labels_validation = train_test_split(features_train, labels_train, test_size=0.2)"
   ]
  },
  {
   "cell_type": "markdown",
   "metadata": {},
   "source": [
    "## Model Architechture"
   ]
  },
  {
   "cell_type": "code",
   "execution_count": 51,
   "metadata": {
    "ExecuteTime": {
     "end_time": "2021-04-11T19:26:54.505877Z",
     "start_time": "2021-04-11T19:26:54.486052Z"
    }
   },
   "outputs": [],
   "source": [
    "#build sequential model\n",
    "classifier = Sequential()"
   ]
  },
  {
   "cell_type": "code",
   "execution_count": 52,
   "metadata": {
    "ExecuteTime": {
     "end_time": "2021-04-11T19:26:54.587400Z",
     "start_time": "2021-04-11T19:26:54.509513Z"
    }
   },
   "outputs": [],
   "source": [
    "classifier.add(Dense(8, activation = 'relu', input_shape=(8090,)))\n",
    "classifier.add(Dropout(0.2))\n",
    "\n",
    "classifier.add(Dense(16, activation = 'relu'))\n",
    "classifier.add(Dropout(0.2))\n",
    "#the more nodes there were the worse our model performed.\n",
    "classifier.add(Dense(32, activation = 'relu'))\n",
    "classifier.add(Dropout(0.2))\n",
    "\n",
    "classifier.add(Dense(2, activation = 'softmax'))"
   ]
  },
  {
   "cell_type": "code",
   "execution_count": null,
   "metadata": {},
   "outputs": [],
   "source": []
  },
  {
   "cell_type": "code",
   "execution_count": 53,
   "metadata": {
    "ExecuteTime": {
     "end_time": "2021-04-11T19:26:54.606121Z",
     "start_time": "2021-04-11T19:26:54.593218Z"
    }
   },
   "outputs": [],
   "source": [
    "#binary- we have two possible outcomes.\n",
    "classifier.compile(optimizer = 'Adam', loss = 'binary_crossentropy', metrics = ['accuracy'])"
   ]
  },
  {
   "cell_type": "code",
   "execution_count": 54,
   "metadata": {
    "ExecuteTime": {
     "end_time": "2021-04-11T19:27:36.998830Z",
     "start_time": "2021-04-11T19:26:54.616062Z"
    }
   },
   "outputs": [
    {
     "name": "stdout",
     "output_type": "stream",
     "text": [
      "Epoch 1/50\n",
      "502/502 [==============================] - 1s 2ms/step - loss: 1.8060 - accuracy: 0.4421 - val_loss: 0.6931 - val_accuracy: 0.8685\n",
      "Epoch 2/50\n",
      "502/502 [==============================] - 1s 2ms/step - loss: 0.6931 - accuracy: 0.5001 - val_loss: 0.6931 - val_accuracy: 0.1315\n",
      "Epoch 3/50\n",
      "502/502 [==============================] - 1s 2ms/step - loss: 0.6931 - accuracy: 0.4865 - val_loss: 0.6931 - val_accuracy: 0.8685\n",
      "Epoch 4/50\n",
      "502/502 [==============================] - 1s 1ms/step - loss: 0.6931 - accuracy: 0.4598 - val_loss: 0.6931 - val_accuracy: 0.8685\n",
      "Epoch 5/50\n",
      "502/502 [==============================] - 1s 2ms/step - loss: 0.6931 - accuracy: 0.4836 - val_loss: 0.6931 - val_accuracy: 0.8685\n",
      "Epoch 6/50\n",
      "502/502 [==============================] - 1s 2ms/step - loss: 0.6931 - accuracy: 0.4104 - val_loss: 0.6931 - val_accuracy: 0.8685\n",
      "Epoch 7/50\n",
      "502/502 [==============================] - 1s 1ms/step - loss: 0.6931 - accuracy: 0.4285 - val_loss: 0.6931 - val_accuracy: 0.8685\n",
      "Epoch 8/50\n",
      "502/502 [==============================] - 1s 2ms/step - loss: 0.6931 - accuracy: 0.4702 - val_loss: 0.6931 - val_accuracy: 0.8685\n",
      "Epoch 9/50\n",
      "502/502 [==============================] - 1s 2ms/step - loss: 0.6931 - accuracy: 0.4776 - val_loss: 0.6931 - val_accuracy: 0.8685\n",
      "Epoch 10/50\n",
      "502/502 [==============================] - 1s 2ms/step - loss: 0.6931 - accuracy: 0.4746 - val_loss: 0.6931 - val_accuracy: 0.8685\n",
      "Epoch 11/50\n",
      "502/502 [==============================] - 1s 2ms/step - loss: 0.6931 - accuracy: 0.4907 - val_loss: 0.6931 - val_accuracy: 0.8685\n",
      "Epoch 12/50\n",
      "502/502 [==============================] - 1s 2ms/step - loss: 0.6931 - accuracy: 0.5017 - val_loss: 0.6931 - val_accuracy: 0.8685\n",
      "Epoch 13/50\n",
      "502/502 [==============================] - 1s 2ms/step - loss: 0.6931 - accuracy: 0.5222 - val_loss: 0.6931 - val_accuracy: 0.8685\n",
      "Epoch 14/50\n",
      "502/502 [==============================] - 1s 2ms/step - loss: 0.6931 - accuracy: 0.5366 - val_loss: 0.6931 - val_accuracy: 0.8685\n",
      "Epoch 15/50\n",
      "502/502 [==============================] - 1s 2ms/step - loss: 0.6931 - accuracy: 0.6332 - val_loss: 0.6931 - val_accuracy: 0.8685\n",
      "Epoch 16/50\n",
      "502/502 [==============================] - 1s 2ms/step - loss: 0.6931 - accuracy: 0.8726 - val_loss: 0.6931 - val_accuracy: 0.8685\n",
      "Epoch 17/50\n",
      "502/502 [==============================] - 1s 2ms/step - loss: 0.6931 - accuracy: 0.8726 - val_loss: 0.6931 - val_accuracy: 0.8685\n",
      "Epoch 18/50\n",
      "502/502 [==============================] - 1s 2ms/step - loss: 0.6931 - accuracy: 0.8726 - val_loss: 0.6931 - val_accuracy: 0.8685\n",
      "Epoch 19/50\n",
      "502/502 [==============================] - 1s 2ms/step - loss: 0.6931 - accuracy: 0.8726 - val_loss: 0.6931 - val_accuracy: 0.8685\n",
      "Epoch 20/50\n",
      "502/502 [==============================] - 1s 2ms/step - loss: 0.6931 - accuracy: 0.8726 - val_loss: 0.6931 - val_accuracy: 0.8685\n",
      "Epoch 21/50\n",
      "502/502 [==============================] - 1s 2ms/step - loss: 0.6931 - accuracy: 0.8726 - val_loss: 0.6931 - val_accuracy: 0.8685\n",
      "Epoch 22/50\n",
      "502/502 [==============================] - 1s 2ms/step - loss: 0.6931 - accuracy: 0.8726 - val_loss: 0.6931 - val_accuracy: 0.8685\n",
      "Epoch 23/50\n",
      "502/502 [==============================] - 1s 2ms/step - loss: 0.6931 - accuracy: 0.8726 - val_loss: 0.6931 - val_accuracy: 0.8685\n",
      "Epoch 24/50\n",
      "502/502 [==============================] - 1s 2ms/step - loss: 0.6931 - accuracy: 0.8726 - val_loss: 0.6931 - val_accuracy: 0.8685\n",
      "Epoch 25/50\n",
      "502/502 [==============================] - 1s 2ms/step - loss: 0.6931 - accuracy: 0.8726 - val_loss: 0.6931 - val_accuracy: 0.8685\n",
      "Epoch 26/50\n",
      "502/502 [==============================] - 1s 2ms/step - loss: 0.6931 - accuracy: 0.8726 - val_loss: 0.6931 - val_accuracy: 0.8685\n",
      "Epoch 27/50\n",
      "502/502 [==============================] - 1s 2ms/step - loss: 0.6931 - accuracy: 0.8726 - val_loss: 0.6931 - val_accuracy: 0.8685\n",
      "Epoch 28/50\n",
      "502/502 [==============================] - 1s 2ms/step - loss: 0.6931 - accuracy: 0.8726 - val_loss: 0.6931 - val_accuracy: 0.8685\n",
      "Epoch 29/50\n",
      "502/502 [==============================] - 1s 2ms/step - loss: 0.6931 - accuracy: 0.8726 - val_loss: 0.6931 - val_accuracy: 0.8685\n",
      "Epoch 30/50\n",
      "502/502 [==============================] - 1s 2ms/step - loss: 0.6931 - accuracy: 0.8726 - val_loss: 0.6931 - val_accuracy: 0.8685\n",
      "Epoch 31/50\n",
      "502/502 [==============================] - 1s 2ms/step - loss: 0.6931 - accuracy: 0.8726 - val_loss: 0.6931 - val_accuracy: 0.8685\n",
      "Epoch 32/50\n",
      "502/502 [==============================] - 1s 2ms/step - loss: 0.6931 - accuracy: 0.8726 - val_loss: 0.6931 - val_accuracy: 0.8685\n",
      "Epoch 33/50\n",
      "502/502 [==============================] - 1s 2ms/step - loss: 0.6931 - accuracy: 0.8726 - val_loss: 0.6931 - val_accuracy: 0.8685\n",
      "Epoch 34/50\n",
      "502/502 [==============================] - 1s 2ms/step - loss: 0.6931 - accuracy: 0.8726 - val_loss: 0.6931 - val_accuracy: 0.8685\n",
      "Epoch 35/50\n",
      "502/502 [==============================] - 1s 2ms/step - loss: 0.6931 - accuracy: 0.8726 - val_loss: 0.6931 - val_accuracy: 0.8685\n",
      "Epoch 36/50\n",
      "502/502 [==============================] - 1s 2ms/step - loss: 0.6931 - accuracy: 0.8726 - val_loss: 0.6931 - val_accuracy: 0.8685\n",
      "Epoch 37/50\n",
      "502/502 [==============================] - 1s 2ms/step - loss: 0.6931 - accuracy: 0.8726 - val_loss: 0.6931 - val_accuracy: 0.8685\n",
      "Epoch 38/50\n",
      "502/502 [==============================] - 1s 2ms/step - loss: 0.6931 - accuracy: 0.8726 - val_loss: 0.6931 - val_accuracy: 0.8685\n",
      "Epoch 39/50\n",
      "502/502 [==============================] - 1s 2ms/step - loss: 0.6931 - accuracy: 0.8726 - val_loss: 0.6931 - val_accuracy: 0.8685\n",
      "Epoch 40/50\n",
      "502/502 [==============================] - 1s 2ms/step - loss: 0.6931 - accuracy: 0.8726 - val_loss: 0.6931 - val_accuracy: 0.8685\n",
      "Epoch 41/50\n",
      "502/502 [==============================] - 1s 2ms/step - loss: 0.6931 - accuracy: 0.8726 - val_loss: 0.6931 - val_accuracy: 0.8685\n",
      "Epoch 42/50\n",
      "502/502 [==============================] - 1s 2ms/step - loss: 0.6931 - accuracy: 0.8726 - val_loss: 0.6931 - val_accuracy: 0.8685\n",
      "Epoch 43/50\n",
      "502/502 [==============================] - 1s 2ms/step - loss: 0.6931 - accuracy: 0.8726 - val_loss: 0.6931 - val_accuracy: 0.8685\n",
      "Epoch 44/50\n",
      "502/502 [==============================] - 1s 2ms/step - loss: 0.6931 - accuracy: 0.8726 - val_loss: 0.6931 - val_accuracy: 0.8685\n",
      "Epoch 45/50\n",
      "502/502 [==============================] - 1s 2ms/step - loss: 0.6931 - accuracy: 0.8726 - val_loss: 0.6931 - val_accuracy: 0.8685\n",
      "Epoch 46/50\n",
      "502/502 [==============================] - 1s 2ms/step - loss: 0.6931 - accuracy: 0.8726 - val_loss: 0.6931 - val_accuracy: 0.8685\n",
      "Epoch 47/50\n",
      "502/502 [==============================] - 1s 2ms/step - loss: 0.6931 - accuracy: 0.8726 - val_loss: 0.6931 - val_accuracy: 0.8685\n",
      "Epoch 48/50\n",
      "502/502 [==============================] - 1s 2ms/step - loss: 0.6931 - accuracy: 0.8726 - val_loss: 0.6931 - val_accuracy: 0.8685\n",
      "Epoch 49/50\n",
      "502/502 [==============================] - 1s 2ms/step - loss: 0.6931 - accuracy: 0.8726 - val_loss: 0.6931 - val_accuracy: 0.8685\n",
      "Epoch 50/50\n",
      "502/502 [==============================] - 1s 2ms/step - loss: 0.6931 - accuracy: 0.8726 - val_loss: 0.6931 - val_accuracy: 0.8685\n"
     ]
    }
   ],
   "source": [
    "##please note: tried to add SMOTE to this and ending up getting terrible results.  Accuracy was .12-.25.\n",
    "\n",
    "history = classifier.fit(features_train, labels_train, batch_size = 10, epochs = 50, validation_data=(features_validation, labels_validation))"
   ]
  },
  {
   "cell_type": "markdown",
   "metadata": {},
   "source": [
    "# Results"
   ]
  },
  {
   "cell_type": "code",
   "execution_count": 55,
   "metadata": {
    "ExecuteTime": {
     "end_time": "2021-04-11T19:27:37.123998Z",
     "start_time": "2021-04-11T19:27:37.002859Z"
    }
   },
   "outputs": [],
   "source": [
    "prediction = classifier.predict(features_test)"
   ]
  },
  {
   "cell_type": "code",
   "execution_count": 56,
   "metadata": {
    "ExecuteTime": {
     "end_time": "2021-04-11T19:27:37.533891Z",
     "start_time": "2021-04-11T19:27:37.126515Z"
    }
   },
   "outputs": [
    {
     "name": "stdout",
     "output_type": "stream",
     "text": [
      "49/49 [==============================] - 0s 4ms/step - loss: 0.6931 - accuracy: 0.8565\n",
      "[0.6931471824645996, 0.8565050959587097]\n"
     ]
    }
   ],
   "source": [
    "performance= classifier.evaluate(features_test, labels_test)\n",
    "print(performance)"
   ]
  },
  {
   "cell_type": "code",
   "execution_count": 58,
   "metadata": {
    "ExecuteTime": {
     "end_time": "2021-04-11T19:28:48.676865Z",
     "start_time": "2021-04-11T19:28:48.381144Z"
    }
   },
   "outputs": [
    {
     "data": {
      "image/png": "[encoded data removed]",
      "text/plain": [
       "<Figure size 1080x1080 with 2 Axes>"
      ]
     },
     "metadata": {},
     "output_type": "display_data"
    }
   ],
   "source": [
    "acc = history.history['accuracy']\n",
    "val_acc = history.history['val_accuracy']\n",
    "loss = history.history['loss']\n",
    "val_loss = history.history['val_loss']\n",
    "epochs_range = range(50)\n",
    "\n",
    "plt.figure(figsize=(15, 15))\n",
    "plt.subplot(2, 2, 1)\n",
    "plt.plot(epochs_range, acc, label='Training Accuracy')\n",
    "plt.plot(epochs_range, val_acc, label='Validation Accuracy')\n",
    "plt.legend(loc='lower right')\n",
    "plt.title('Training and Validation Accuracy')\n",
    "\n",
    "plt.subplot(2, 2, 2)\n",
    "plt.plot(epochs_range, loss, label='Training Loss')\n",
    "plt.plot(epochs_range, val_loss, label='Validation Loss')\n",
    "plt.legend(loc='lower left')\n",
    "plt.title('Training and Validation Loss')\n",
    "plt.show()"
   ]
  },
  {
   "cell_type": "markdown",
   "metadata": {},
   "source": [
    "## Confusion Matrix"
   ]
  },
  {
   "cell_type": "code",
   "execution_count": 59,
   "metadata": {
    "ExecuteTime": {
     "end_time": "2021-04-11T19:28:59.352713Z",
     "start_time": "2021-04-11T19:28:59.339849Z"
    }
   },
   "outputs": [],
   "source": [
    "cm = confusion_matrix(y_true=labels_test, y_pred=np.argmax(prediction, axis=-1))"
   ]
  },
  {
   "cell_type": "code",
   "execution_count": 60,
   "metadata": {
    "ExecuteTime": {
     "end_time": "2021-04-11T19:28:59.645579Z",
     "start_time": "2021-04-11T19:28:59.642934Z"
    }
   },
   "outputs": [],
   "source": [
    "import itertools"
   ]
  },
  {
   "cell_type": "code",
   "execution_count": 61,
   "metadata": {
    "ExecuteTime": {
     "end_time": "2021-04-11T19:28:59.956292Z",
     "start_time": "2021-04-11T19:28:59.948356Z"
    }
   },
   "outputs": [],
   "source": [
    "def plot_confusion_matrix(cm, classes,\n",
    "                        normalize=False,\n",
    "                        title='Confusion matrix',\n",
    "                        cmap=plt.cm.Blues):\n",
    "\n",
    "    plt.imshow(cm, interpolation='nearest', cmap=cmap)\n",
    "    plt.title(title)\n",
    "    plt.grid(False)\n",
    "    plt.colorbar()\n",
    "    tick_marks = np.arange(len(classes))\n",
    "    plt.xticks(tick_marks, classes, rotation=45)\n",
    "    plt.yticks(tick_marks, classes)\n",
    "\n",
    "    if normalize:\n",
    "        cm = cm.astype('float') / cm.sum(axis=1)[:, np.newaxis]\n",
    "        print(\"Normalized confusion matrix\")\n",
    "    else:\n",
    "        print('Confusion matrix, without normalization')\n",
    "\n",
    "    print(cm)\n",
    "\n",
    "    thresh = cm.max() / 2.\n",
    "    for i, j in itertools.product(range(cm.shape[0]), range(cm.shape[1])):\n",
    "        plt.text(j, i, cm[i, j],\n",
    "            horizontalalignment=\"center\",\n",
    "            color=\"white\" if cm[i, j] > thresh else \"black\")\n",
    "\n",
    "    plt.tight_layout()\n",
    "    plt.ylabel('True label')\n",
    "    plt.xlabel('Predicted label')"
   ]
  },
  {
   "cell_type": "code",
   "execution_count": 62,
   "metadata": {
    "ExecuteTime": {
     "end_time": "2021-04-11T19:29:00.285232Z",
     "start_time": "2021-04-11T19:29:00.282469Z"
    }
   },
   "outputs": [],
   "source": [
    "cm_labels = ['Do Not Close', 'Close']"
   ]
  },
  {
   "cell_type": "code",
   "execution_count": 63,
   "metadata": {
    "ExecuteTime": {
     "end_time": "2021-04-11T19:29:00.904196Z",
     "start_time": "2021-04-11T19:29:00.745404Z"
    }
   },
   "outputs": [
    {
     "name": "stdout",
     "output_type": "stream",
     "text": [
      "Confusion matrix, without normalization\n",
      "[[1343    0]\n",
      " [ 225    0]]\n"
     ]
    },
    {
     "data": {
      "image/png": "[encoded data removed]",
      "text/plain": [
       "<Figure size 432x288 with 2 Axes>"
      ]
     },
     "metadata": {},
     "output_type": "display_data"
    }
   ],
   "source": [
    "plot_confusion_matrix(cm=cm, classes=cm_labels, title='Confusion Matrix')"
   ]
  },
  {
   "cell_type": "markdown",
   "metadata": {},
   "source": [
    "# Conclusion"
   ]
  },
  {
   "cell_type": "markdown",
   "metadata": {},
   "source": [
    "I still think that I would stick with the random forrest or XGBoost model.  The accuracy was slightly higher and the confusion matrix looked normal.  Again, like in the SVM the model wants to only classify one variable however it is highly accurate at classifying that one variable."
   ]
  },
  {
   "cell_type": "markdown",
   "metadata": {},
   "source": [
    "\"Both Support Vector Machines (SVMs) and Artificial Neural Networks (ANNs) are supervised machine learning classifiers. An ANN is a parametric classifier that uses hyper-parameters tuning during the training phase. An SVM is a non-parametric classifier that finds a linear vector (if a linear kernel is used) to separate classes. Actually, in terms of the model performance, SVMs are sometimes equivalent to a shallow neural network architecture. Generally, an ANN will outperform an SVM when there is a large number of training instances, however, neither outperforms the other over the full range of problems.\"[2]"
   ]
  },
  {
   "cell_type": "markdown",
   "metadata": {},
   "source": [
    "The problem here is that these models think in terms of vectors/ linear algebra which is not how this data is constructed.  The basis of this data is time.  This data is very much in the terms of if this, than that.  Therefore, an aggregation system like Random Forrest or XGBoost makes more sense."
   ]
  },
  {
   "cell_type": "markdown",
   "metadata": {},
   "source": [
    "# References"
   ]
  },
  {
   "cell_type": "markdown",
   "metadata": {},
   "source": [
    "[1]https://towardsdatascience.com/introduction-to-neural-networks-advantages-and-applications-96851bd1a207#:~:text=Artificial%20Neural%20Network(ANN)%20uses,complex%20patterns%20and%20prediction%20problems.&text=In%20our%20brain%2C%20there%20are,the%20form%20of%20electric%20signals."
   ]
  },
  {
   "cell_type": "markdown",
   "metadata": {},
   "source": [
    "[2]https://www.pico.net/kb/advantages-of-artificial-neural-networks-over-support-vector-machines#:~:text=Both%20Support%20Vector%20Machines%20(SVMs,are%20supervised%20machine%20learning%20classifiers.&text=Actually%2C%20in%20terms%20of%20the,a%20shallow%20neural%20network%20architecture."
   ]
  },
  {
   "cell_type": "code",
   "execution_count": null,
   "metadata": {},
   "outputs": [],
   "source": []
  }
 ],
 "metadata": {
  "kernelspec": {
   "display_name": "Python 3",
   "language": "python",
   "name": "python3"
  },
  "language_info": {
   "codemirror_mode": {
    "name": "ipython",
    "version": 3
   },
   "file_extension": ".py",
   "mimetype": "text/x-python",
   "name": "python",
   "nbconvert_exporter": "python",
   "pygments_lexer": "ipython3",
   "version": "3.8.5"
  },
  "toc": {
   "base_numbering": 1,
   "nav_menu": {},
   "number_sections": true,
   "sideBar": true,
   "skip_h1_title": false,
   "title_cell": "Table of Contents",
   "title_sidebar": "Contents",
   "toc_cell": false,
   "toc_position": {
    "height": "calc(100% - 180px)",
    "left": "10px",
    "top": "150px",
    "width": "298.391px"
   },
   "toc_section_display": true,
   "toc_window_display": true
  }
 },
 "nbformat": 4,
 "nbformat_minor": 4
}
